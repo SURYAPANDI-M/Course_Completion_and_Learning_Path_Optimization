{
 "cells": [
  {
   "cell_type": "markdown",
   "metadata": {},
   "source": [
    "Joining the needed Tables"
   ]
  },
  {
   "cell_type": "code",
   "execution_count": 27,
   "metadata": {},
   "outputs": [
    {
     "name": "stdout",
     "output_type": "stream",
     "text": [
      "Merged file saved to 'datasets/enrollments_with_completions.csv'\n"
     ]
    }
   ],
   "source": [
    "import pandas as pd\n",
    "import os\n",
    "\n",
    "# Load the CSV files\n",
    "enrollments_df = pd.read_csv('enrollments_raw.csv')\n",
    "completions_df = pd.read_csv('course_completions_raw.csv')\n",
    "\n",
    "# Perform the merge on the 'id' in enrollments and 'enrollmentId' in completions\n",
    "merged_df = pd.merge(enrollments_df, completions_df, left_on='id', right_on='enrollmentId')\n",
    "\n",
    "# Ensure the 'datasets' folder exists\n",
    "os.makedirs('datasets', exist_ok=True)\n",
    "\n",
    "# Save the result to the 'datasets' folder\n",
    "merged_df.to_csv('datasets/enrollments_with_completions.csv', index=False)\n",
    "\n",
    "# Display confirmation\n",
    "print(\"Merged file saved to 'datasets/enrollments_with_completions.csv'\")\n"
   ]
  },
  {
   "cell_type": "markdown",
   "metadata": {},
   "source": [
    "Group by for calculating  average Score"
   ]
  },
  {
   "cell_type": "code",
   "execution_count": 28,
   "metadata": {},
   "outputs": [
    {
     "name": "stdout",
     "output_type": "stream",
     "text": [
      "      userId  learningPathId  average_score\n",
      "0    EMP0003             9.0          71.73\n",
      "1    EMP0003            10.0          89.53\n",
      "2    EMP0005             7.0          73.12\n",
      "3    EMP0006             5.0          81.49\n",
      "4    EMP0010             9.0          85.30\n",
      "..       ...             ...            ...\n",
      "261  EMP0983             3.0          67.12\n",
      "262  EMP0984             1.0          68.16\n",
      "263  EMP0991            10.0          74.47\n",
      "264  EMP0992             4.0          63.12\n",
      "265  EMP0998             3.0          84.52\n",
      "\n",
      "[266 rows x 3 columns]\n",
      "Average scores saved to 'datasets/user_learning_path_average_scores.csv'\n"
     ]
    }
   ],
   "source": [
    "import pandas as pd\n",
    "\n",
    "# Load the merged CSV file\n",
    "df = pd.read_csv('datasets/enrollments_with_completions.csv')\n",
    "\n",
    "# Filter rows where completionStatus is 'Completed'\n",
    "df_completed = df[df['completionStatus'] == 'Completed']\n",
    "\n",
    "# Group by userId and learningPathId, then calculate the average score\n",
    "average_scores = df_completed.groupby(['userId', 'learningPathId'])['score'].mean().reset_index()\n",
    "\n",
    "# Rename the 'score' column to 'average_score'\n",
    "average_scores.rename(columns={'score': 'average_score'}, inplace=True)\n",
    "\n",
    "# Display the result\n",
    "print(average_scores)\n",
    "\n",
    "# Optionally, save the result to a CSV file in the 'datasets' folder\n",
    "average_scores.to_csv('datasets/user_learning_path_average_scores.csv', index=False)\n",
    "\n",
    "# Display confirmation message\n",
    "print(\"Average scores saved to 'datasets/user_learning_path_average_scores.csv'\")\n"
   ]
  },
  {
   "cell_type": "code",
   "execution_count": null,
   "metadata": {},
   "outputs": [],
   "source": []
  },
  {
   "cell_type": "code",
   "execution_count": 34,
   "metadata": {},
   "outputs": [
    {
     "name": "stdout",
     "output_type": "stream",
     "text": [
      "    userId  learningPathId  average_score\n",
      "0  EMP0003             9.0          71.73\n",
      "1  EMP0003            10.0          89.53\n",
      "2  EMP0005             7.0          73.12\n",
      "3  EMP0006             5.0          81.49\n",
      "4  EMP0010             9.0          85.30\n",
      "Mean Squared Error: 180.91\n",
      "R² Score: -0.42\n",
      "     Actual  Predicted\n",
      "181   70.91    65.7652\n",
      "119   70.47    75.2527\n",
      "139   67.64    78.8045\n",
      "216   73.58    70.9345\n",
      "45    67.85    79.5074\n"
     ]
    }
   ],
   "source": [
    "import pandas as pd\n",
    "from sklearn.model_selection import train_test_split\n",
    "from sklearn.ensemble import RandomForestRegressor\n",
    "from sklearn.metrics import mean_squared_error, r2_score\n",
    "from sklearn.preprocessing import LabelEncoder\n",
    "\n",
    "# Load the data\n",
    "data = pd.read_csv('datasets/user_learning_path_average_scores.csv')\n",
    "\n",
    "# Display the first few rows\n",
    "print(data.head())\n",
    "\n",
    "# Encode categorical variables (userId and learningPathId)\n",
    "label_encoder_user = LabelEncoder()\n",
    "data['userId'] = label_encoder_user.fit_transform(data['userId'])\n",
    "\n",
    "label_encoder_path = LabelEncoder()\n",
    "data['learningPathId'] = label_encoder_path.fit_transform(data['learningPathId'])\n",
    "\n",
    "# Define features and target\n",
    "X = data[['userId', 'learningPathId']]  # Features\n",
    "y = data['average_score']  # Target variable (average scores)\n",
    "\n",
    "# Split the dataset into training and testing sets\n",
    "X_train, X_test, y_train, y_test = train_test_split(X, y, test_size=0.2, random_state=42)\n",
    "\n",
    "# Initialize the Random Forest Regressor\n",
    "rf_regressor = RandomForestRegressor(n_estimators=100, random_state=42)\n",
    "\n",
    "# Train the model\n",
    "rf_regressor.fit(X_train, y_train)\n",
    "\n",
    "# Make predictions\n",
    "y_pred = rf_regressor.predict(X_test)\n",
    "\n",
    "# Evaluate the model\n",
    "mse = mean_squared_error(y_test, y_pred)\n",
    "r2 = r2_score(y_test, y_pred)\n",
    "\n",
    "print(f'Mean Squared Error: {mse:.2f}')\n",
    "print(f'R² Score: {r2:.2f}')\n",
    "\n",
    "# Optionally, display predictions alongside actual values\n",
    "predictions_df = pd.DataFrame({'Actual': y_test, 'Predicted': y_pred})\n",
    "print(predictions_df.head())\n"
   ]
  },
  {
   "cell_type": "markdown",
   "metadata": {},
   "source": [
    "predicting the learningpath"
   ]
  },
  {
   "cell_type": "code",
   "execution_count": 33,
   "metadata": {},
   "outputs": [
    {
     "name": "stdout",
     "output_type": "stream",
     "text": [
      "      userId  recommended_learningPathId\n",
      "0    EMP0003                        10.0\n",
      "1    EMP0005                         7.0\n",
      "2    EMP0006                         5.0\n",
      "3    EMP0010                         9.0\n",
      "4    EMP0019                        10.0\n",
      "..       ...                         ...\n",
      "234  EMP0983                         3.0\n",
      "235  EMP0984                         1.0\n",
      "236  EMP0991                        10.0\n",
      "237  EMP0992                         4.0\n",
      "238  EMP0998                         3.0\n",
      "\n",
      "[239 rows x 2 columns]\n",
      "Recommended learning paths saved to 'datasets/recommended_learning_paths.csv'\n"
     ]
    }
   ],
   "source": [
    "import pandas as pd\n",
    "from sklearn.ensemble import RandomForestRegressor\n",
    "\n",
    "# Load the average scores CSV file\n",
    "average_scores = pd.read_csv('datasets/user_learning_path_average_scores.csv')\n",
    "\n",
    "# Prepare features and target\n",
    "# Create dummy variables for learningPathId\n",
    "X = pd.get_dummies(average_scores[['learningPathId']], drop_first=True)\n",
    "y = average_scores['average_score']\n",
    "\n",
    "# Initialize and train the Random Forest Regressor\n",
    "rf_model = RandomForestRegressor(n_estimators=100, random_state=42)\n",
    "rf_model.fit(X, y)\n",
    "\n",
    "# Make predictions for each user for all their enrolled learning paths\n",
    "predictions = rf_model.predict(X)\n",
    "\n",
    "# Create a DataFrame to hold predictions along with userId and learningPathId\n",
    "predicted_scores = average_scores[['userId', 'learningPathId']].copy()\n",
    "predicted_scores['predicted_average_score'] = predictions\n",
    "\n",
    "# Find the learning path with the maximum predicted score for each user\n",
    "recommended_paths = predicted_scores.loc[predicted_scores.groupby('userId')['predicted_average_score'].idxmax()]\n",
    "\n",
    "# Select only the required columns for output\n",
    "recommended_paths = recommended_paths[['userId', 'learningPathId']]\n",
    "recommended_paths.columns = ['userId', 'recommended_learningPathId']  # Rename for clarity\n",
    "\n",
    "# Optionally, reset index if needed\n",
    "recommended_paths.reset_index(drop=True, inplace=True)\n",
    "\n",
    "# Display the recommendations\n",
    "print(recommended_paths)\n",
    "\n",
    "# Save the output to a new CSV file\n",
    "recommended_paths.to_csv('datasets/recommended_learning_paths.csv', index=False)\n",
    "\n",
    "# Display confirmation message\n",
    "print(\"Recommended learning paths saved to 'datasets/recommended_learning_paths.csv'\")\n"
   ]
  }
 ],
 "metadata": {
  "kernelspec": {
   "display_name": "Python 3",
   "language": "python",
   "name": "python3"
  },
  "language_info": {
   "codemirror_mode": {
    "name": "ipython",
    "version": 3
   },
   "file_extension": ".py",
   "mimetype": "text/x-python",
   "name": "python",
   "nbconvert_exporter": "python",
   "pygments_lexer": "ipython3",
   "version": "3.12.5"
  }
 },
 "nbformat": 4,
 "nbformat_minor": 2
}
